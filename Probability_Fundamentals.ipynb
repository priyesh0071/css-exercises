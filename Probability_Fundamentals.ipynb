{
  "cells": [
    {
      "cell_type": "markdown",
      "metadata": {
        "id": "view-in-github",
        "colab_type": "text"
      },
      "source": [
        "<a href=\"https://colab.research.google.com/github/priyesh0071/css-exercises/blob/main/Probability_Fundamentals.ipynb\" target=\"_parent\"><img src=\"https://colab.research.google.com/assets/colab-badge.svg\" alt=\"Open In Colab\"/></a>"
      ]
    },
    {
      "cell_type": "markdown",
      "source": [
        "# <b>Probability Distribution</b>"
      ],
      "metadata": {
        "id": "C8q0IfgrmhJb"
      },
      "id": "C8q0IfgrmhJb"
    },
    {
      "cell_type": "code",
      "source": [
        "Num, Name = input(\"Reg. Number:\"), input(\"Name:\")"
      ],
      "outputs": [
        {
          "name": "stdout",
          "output_type": "stream",
          "text": [
            "Reg. Number:23MCA1103\n",
            "Name:Priyesh sinha\n"
          ]
        }
      ],
      "execution_count": 1,
      "metadata": {
        "id": "CSirVa_kjMUu",
        "colab": {
          "base_uri": "https://localhost:8080/",
          "height": 0
        },
        "outputId": "288ae669-505d-42c6-b9ad-cc1a170171ae"
      },
      "id": "CSirVa_kjMUu"
    },
    {
      "cell_type": "markdown",
      "source": [
        "# <b> Agenda </b>"
      ],
      "metadata": {
        "id": "3iz_VQLy4yf7"
      },
      "id": "3iz_VQLy4yf7"
    },
    {
      "cell_type": "markdown",
      "source": [
        "In this session, we will cover the following concepts with the help of a business use case:\n",
        "\n",
        "* Probability\n",
        "\n",
        "* Different types of Probability Distribution:\n",
        "    * Binomial Distribution\n",
        "    * Poisson Distribution\n",
        "    * Normal Distribution\n",
        "    * Uniform Distribution\n",
        "* Probability Density Function and Mass Function\n",
        "* Cumulative Distribution Function\n",
        "* Central Limit Theoram\n",
        "* Estimation Theory"
      ],
      "metadata": {
        "id": "1JwRUGzZm4zN"
      },
      "id": "1JwRUGzZm4zN"
    },
    {
      "cell_type": "markdown",
      "source": [
        "# Probability and Its Importance  "
      ],
      "metadata": {
        "id": "hgTzWUB4mvJS"
      },
      "id": "hgTzWUB4mvJS"
    },
    {
      "cell_type": "markdown",
      "source": [
        "Probability is a mathematical term for the likelihood of any event happening.\n",
        "\n",
        "![proba.PNG](https://s3.us-east-1.amazonaws.com/static2.simplilearn.com/lms/testpaper_images/ADSP/Advanced_Statistics/Probimages/proba.PNG)\n",
        "\n"
      ],
      "metadata": {
        "id": "a36697e3"
      },
      "id": "a36697e3"
    },
    {
      "cell_type": "markdown",
      "source": [
        "The chance of any event occurring is a number between 0 and 1.\n",
        "![0%20and%201.PNG](https://s3.us-east-1.amazonaws.com/static2.simplilearn.com/lms/testpaper_images/ADSP/Advanced_Statistics/Probimages/0%20and%201.PNG)"
      ],
      "metadata": {
        "id": "d0e39e1e"
      },
      "id": "d0e39e1e"
    },
    {
      "cell_type": "markdown",
      "source": [
        "## Uses of Probability"
      ],
      "metadata": {
        "id": "249cd2e6"
      },
      "id": "249cd2e6"
    },
    {
      "cell_type": "markdown",
      "source": [
        "\n",
        "1. It is used to anticipate risks and identify ways to manage such risks.\n",
        "\n",
        "2. It is used to make predictions about future events based on their likelihood.\n",
        "\n",
        "3. It is a powerful tool used to incorporate uncertainty in planning and decision making.\n",
        "\n",
        "4. Probability is used in a number of areas such as weather forecasting, scientific research, and healthcare.  \n",
        "\n",
        "\n"
      ],
      "metadata": {
        "id": "a08ca259"
      },
      "id": "a08ca259"
    },
    {
      "cell_type": "markdown",
      "source": [
        "## Real-Life Examples:"
      ],
      "metadata": {
        "id": "461882a6"
      },
      "id": "461882a6"
    },
    {
      "cell_type": "markdown",
      "source": [
        "\n",
        "\n",
        "<b> 1. Flipping of a coin: </b> It is essential to decide who will bat or bowl first before the beginning of any cricket match.This is determined by flipping a coin.  Both head and tail of the coin have a 1 out of 2, i.e. a 50% chance of occurring. Hence, the probability of getting the desired outcome is 0.5.  \n",
        "\n",
        "\n",
        "\n",
        "\n",
        "\n",
        "\n",
        "\n",
        "\n",
        "\n"
      ],
      "metadata": {
        "id": "8361ea5c"
      },
      "id": "8361ea5c"
    },
    {
      "cell_type": "markdown",
      "source": [
        "![flipcoin1.PNG](https://s3.us-east-1.amazonaws.com/static2.simplilearn.com/lms/testpaper_images/ADSP/Advanced_Statistics/Probimages/flipcoin1.PNG)"
      ],
      "metadata": {
        "id": "acc81939"
      },
      "id": "acc81939"
    },
    {
      "cell_type": "markdown",
      "source": [
        "<b> 2. Election forecasts: </b> Many political analysts use the results of exit polls to predict whether a certain political party will come into power.  \n",
        "\n",
        "![election.PNG](https://s3.us-east-1.amazonaws.com/static2.simplilearn.com/lms/testpaper_images/ADSP/Advanced_Statistics/Probimages/election.PNG)\n",
        "\n",
        "\n"
      ],
      "metadata": {
        "id": "975b0a86"
      },
      "id": "975b0a86"
    },
    {
      "cell_type": "markdown",
      "source": [
        "<b> 3. Weather forecasting: </b> Before planning for an outing or a picnic, we always check the weather forecast\n",
        "    to find out the probability whether rain may occur. Weather forecasters  use specific tools and techniques\n",
        "    to predict the weather. They do this by looking at all the other historical databases of the days, which\n",
        "    have similar characteristics of temperature, humidity, pressure, etc.\n",
        "    \n",
        " ![whetherforec.PNG](https://s3.us-east-1.amazonaws.com/static2.simplilearn.com/lms/testpaper_images/ADSP/Advanced_Statistics/Probimages/whetherforec.PNG)"
      ],
      "metadata": {
        "id": "aa6cfbc4"
      },
      "id": "aa6cfbc4"
    },
    {
      "cell_type": "markdown",
      "source": [
        "# Probability Distribution"
      ],
      "metadata": {
        "id": "cde8a3a6"
      },
      "id": "cde8a3a6"
    },
    {
      "cell_type": "markdown",
      "source": [
        "\n",
        "\n",
        "Probability distributions are statistical functions that describe the likelihood of obtaining possible values\n",
        "that a random variable can take.\n",
        "\n",
        "![probdist.PNG](https://s3.us-east-1.amazonaws.com/static2.simplilearn.com/lms/testpaper_images/ADSP/Advanced_Statistics/Probimages/probdist.PNG)\n",
        "\n"
      ],
      "metadata": {
        "id": "1e039ec0"
      },
      "id": "1e039ec0"
    },
    {
      "cell_type": "markdown",
      "source": [
        "<b> The notation used by statisticians to describe probabilities is as given below:</b>  \n",
        "\n",
        "p(x) = the likelihood that a random variable takes a specific value of x."
      ],
      "metadata": {
        "id": "c340555a"
      },
      "id": "c340555a"
    },
    {
      "cell_type": "markdown",
      "source": [
        "## Categories of Variables"
      ],
      "metadata": {
        "id": "b67c78c2"
      },
      "id": "b67c78c2"
    },
    {
      "cell_type": "markdown",
      "source": [
        "\n",
        "\n",
        "There are two types of variables for which probability distributions are defined:\n",
        "\n",
        "![discretecontinuous.PNG](https://s3.us-east-1.amazonaws.com/static2.simplilearn.com/lms/testpaper_images/ADSP/Advanced_Statistics/Probimages/discretecontinuous.PNG)\n",
        "\n",
        "\n",
        "\n",
        "\n",
        "\n"
      ],
      "metadata": {
        "id": "fa4f0639"
      },
      "id": "fa4f0639"
    },
    {
      "cell_type": "markdown",
      "source": [
        "\n",
        "<b>Similarly, for a single random variable, statisticians divide distributions into the following two types:</b>\n",
        "\n",
        "\n",
        "![singlerandom.PNG](https://s3.us-east-1.amazonaws.com/static2.simplilearn.com/lms/testpaper_images/ADSP/Advanced_Statistics/Probimages/singlerandom.PNG)\n",
        "\n",
        "The probability distribution indicates how the total probability 1 or 100% is distributed across all values. Each\n",
        "value taken by a random variable clearly constitutes an event.\n",
        "\n",
        "Consider the outcome of throwing a fair dice. Its probability distribution is:"
      ],
      "metadata": {
        "id": "2e62742e"
      },
      "id": "2e62742e"
    },
    {
      "cell_type": "markdown",
      "source": [
        "![outcomeice.PNG](https://s3.us-east-1.amazonaws.com/static2.simplilearn.com/lms/testpaper_images/ADSP/Advanced_Statistics/Probimages/outcomeice.PNG)"
      ],
      "metadata": {
        "id": "80117347"
      },
      "id": "80117347"
    },
    {
      "cell_type": "markdown",
      "source": [
        "Binomial Distribution and the Poisson Distribution are the two commonly used discrete probability distributions. These\n",
        "are based on the principle of Bernoulli trials or processes."
      ],
      "metadata": {
        "id": "-fl8OiaFpR3P"
      },
      "id": "-fl8OiaFpR3P"
    },
    {
      "cell_type": "markdown",
      "source": [
        "![distibution.PNG](https://s3.us-east-1.amazonaws.com/static2.simplilearn.com/lms/testpaper_images/ADSP/Advanced_Statistics/Probimages/distibution.PNG)"
      ],
      "metadata": {
        "id": "bcc6a660"
      },
      "id": "bcc6a660"
    },
    {
      "cell_type": "markdown",
      "source": [
        "### Probability Distribution: Binomial Distribution"
      ],
      "metadata": {
        "id": "2749eeb5"
      },
      "id": "2749eeb5"
    },
    {
      "cell_type": "markdown",
      "source": [
        "A binomial distribution indicates the probability of a SUCCESS or FAILURE of a survey that is repeated multiple times. The binomial is a type of distribution that has two possible outcomes.\n",
        "\n",
        "<b>Binomial Distribution Example:</b>\n",
        "\n",
        "Let X denote a random variable (r.v.) that indicates the number of times an event occurs in ‘n’ Bernoulli\n",
        "trials with probability p of occurrence in trial. Then, X is said to follow a binomial distribution with\n",
        "parameters n and p where p is referred to as probability parameter.\n",
        "\n",
        "![binomial.PNG](https://s3.us-east-1.amazonaws.com/static2.simplilearn.com/lms/testpaper_images/ADSP/Advanced_Statistics/Probimages/binomial.PNG)\n",
        "\n"
      ],
      "metadata": {
        "id": "639a7cf9"
      },
      "id": "639a7cf9"
    },
    {
      "cell_type": "markdown",
      "source": [
        "If p is the probability of occurrence in a trial, the probability of non-occurrence is q= 1-p which is also a constant.\n",
        "So, when X follows the binomial with parameters n and p, X can take values 0, 1....r...n.\n",
        "\n",
        "![qn.PNG](https://s3.us-east-1.amazonaws.com/static2.simplilearn.com/lms/testpaper_images/ADSP/Advanced_Statistics/Probimages/qn.PNG)\n",
        "Then,\n",
        "\n",
        "P{ X = 0}= q*q....q..q =${q^n}$ as outcomes are independent.\n",
        "\n",
        "This follows multiplication theorem of probability.\n",
        "\n",
        "Similarly,"
      ],
      "metadata": {
        "id": "4ce3768e"
      },
      "id": "4ce3768e"
    },
    {
      "cell_type": "markdown",
      "source": [
        "\n",
        "\n",
        "![equation.PNG](https://s3.us-east-1.amazonaws.com/static2.simplilearn.com/lms/testpaper_images/ADSP/Advanced_Statistics/Probimages/equation.PNG)\n"
      ],
      "metadata": {
        "id": "99f6254a"
      },
      "id": "99f6254a"
    },
    {
      "cell_type": "markdown",
      "source": [
        "<b>Note: The probability values can be obtained from statistical tables or using software.</b>\n",
        "\n",
        "\n",
        "\n"
      ],
      "metadata": {
        "id": "4573db6c"
      },
      "id": "4573db6c"
    },
    {
      "cell_type": "markdown",
      "source": [
        "<b> Example to illustrate a real-world problem of a spare parts manufacturer:</b>\n",
        "\n",
        "If the probability of a machine producing a defective piece is 0.05, What is the probability of finding an inspection sample of size n has four or more defectives?\n",
        "\n",
        "<b>Solution</b>:Let X denote the random variable indicating the number of defectives in the inspection sample of size 10.\n",
        "    \n",
        "Assuming that the process is Bernoulli, X follows a Binomial with parameters n= 10 and p = 0.1\n",
        "    \n",
        "![binomialexample.PNG](https://s3.us-east-1.amazonaws.com/static2.simplilearn.com/lms/testpaper_images/ADSP/Advanced_Statistics/Probimages/binomialexample.PNG)\n",
        "\n",
        "The probabilities of X taking different values are as follows:\n",
        "        \n",
        "        \n"
      ],
      "metadata": {
        "id": "afd6f55d"
      },
      "id": "afd6f55d"
    },
    {
      "cell_type": "markdown",
      "source": [
        "![tablewithequations.PNG](https://s3.us-east-1.amazonaws.com/static2.simplilearn.com/lms/testpaper_images/ADSP/Advanced_Statistics/Probimages/tablewithequations.PNG)"
      ],
      "metadata": {
        "id": "b32796f9"
      },
      "id": "b32796f9"
    },
    {
      "cell_type": "markdown",
      "source": [
        "Probability that the inspection sample has four or more defectives is equal to Probability of  X is greater than\n",
        "or equal to 4\n",
        "\n",
        "<b> Pr {X ≥ 4} = 1 </b> Probability that the inspection sample has three or less defectives which is equal to\n",
        "Probability of X is less than or equal 3\n",
        "\n",
        "<b> Pr{ X≤ 3} = 1- 0.6496 = 0.3504</b>\n",
        "\n",
        "<b>Note: The result justifies the assumption that the process is Bernoulli.</b>\n",
        "\n"
      ],
      "metadata": {
        "id": "14bddf2a"
      },
      "id": "14bddf2a"
    },
    {
      "cell_type": "markdown",
      "source": [
        "# Binomial Distribution Using Python"
      ],
      "metadata": {
        "id": "0615d871"
      },
      "id": "0615d871"
    },
    {
      "cell_type": "code",
      "source": [
        "from scipy.stats import binom\n",
        "import seaborn as sb\n",
        "\n",
        "binom.rvs(size=10,n=20,p=0.8)\n",
        "\n",
        "data_binom = binom.rvs(n=20,p=0.8,loc=0,size=1000)\n",
        "ax = sb.histplot(data_binom,\n",
        "                  kde=True,\n",
        "                  color='green')\n",
        "ax.set(xlabel='Binomial', ylabel='Frequency')"
      ],
      "outputs": [
        {
          "output_type": "execute_result",
          "data": {
            "text/plain": [
              "[Text(0.5, 0, 'Binomial'), Text(0, 0.5, 'Frequency')]"
            ]
          },
          "metadata": {},
          "execution_count": 2
        },
        {
          "output_type": "display_data",
          "data": {
            "text/plain": [
              "<Figure size 640x480 with 1 Axes>"
            ],
            "image/png": "[encoded data removed]"
          },
          "metadata": {}
        }
      ],
      "execution_count": 2,
      "metadata": {
        "id": "7a2f936d",
        "outputId": "dac0ba06-aa52-491c-cd34-976d44e39324",
        "colab": {
          "base_uri": "https://localhost:8080/",
          "height": 466
        }
      },
      "id": "7a2f936d"
    },
    {
      "cell_type": "markdown",
      "source": [
        "# Use Case: Determine the Probability of r Successes"
      ],
      "metadata": {
        "id": "5c9d70ba"
      },
      "id": "5c9d70ba"
    },
    {
      "cell_type": "markdown",
      "source": [
        "## Problem Statement:"
      ],
      "metadata": {
        "id": "2be81d4e"
      },
      "id": "2be81d4e"
    },
    {
      "cell_type": "markdown",
      "source": [
        "Consider a random experiment of tossing a biased coin 6 times where the probability of getting a head is 0.6. If ‘getting\n",
        "a head’ is considered as ‘success’, then the binomial distribution table will contain the probability of r successes\n",
        "for each possible value of r."
      ],
      "metadata": {
        "id": "92a40fc2"
      },
      "id": "92a40fc2"
    },
    {
      "cell_type": "markdown",
      "source": [
        "![binomialexampletable.PNG](https://s3.us-east-1.amazonaws.com/static2.simplilearn.com/lms/testpaper_images/ADSP/Advanced_Statistics/Probability/binomialexampletable.PNG)"
      ],
      "metadata": {
        "id": "ce426f74"
      },
      "id": "ce426f74"
    },
    {
      "cell_type": "markdown",
      "source": [
        " Calculate a binomial distribution using the values of n and p to check if the distribution is normal."
      ],
      "metadata": {
        "id": "97ddb7c1"
      },
      "id": "97ddb7c1"
    },
    {
      "cell_type": "markdown",
      "source": [
        "## Solution:"
      ],
      "metadata": {
        "id": "18426484"
      },
      "id": "18426484"
    },
    {
      "cell_type": "markdown",
      "source": [
        "This distribution has a mean equal to np and variance of np(1-p).\n",
        "\n",
        "Here, scipy.stats module contains various functions for statistical calculations and tests. The stats() function of\n",
        "the scipy.stats.binom module can be used to calculate a binomial distribution using the values of n and p."
      ],
      "metadata": {
        "id": "77536f0a"
      },
      "id": "77536f0a"
    },
    {
      "cell_type": "code",
      "source": [
        "from scipy.stats import binom\n",
        "# Setting the values of n and p\n",
        "n = 6\n",
        "p = 0.6\n",
        "# Defining the list of r values\n",
        "r_values = list(range(n + 1))\n",
        "# Obtaining the mean and variance\n",
        "mean, var = binom.stats(n, p)\n",
        "# List of pmf values\n",
        "dist = [binom.pmf(r, n, p) for r in r_values ]\n",
        "# Printing the table\n",
        "print(\"r\\tp(r)\")\n",
        "for i in range(n + 1):\n",
        "    print(str(r_values[i]) + \"\\t\" + str(dist[i]))\n",
        "# Printing mean and variance\n",
        "print(\"mean = \"+str(mean))\n",
        "print(\"variance = \"+str(var))\n"
      ],
      "outputs": [
        {
          "output_type": "stream",
          "name": "stdout",
          "text": [
            "r\tp(r)\n",
            "0\t0.0040960000000000015\n",
            "1\t0.03686400000000002\n",
            "2\t0.1382400000000001\n",
            "3\t0.2764800000000001\n",
            "4\t0.3110400000000001\n",
            "5\t0.1866240000000001\n",
            "6\t0.04665599999999999\n",
            "mean = 3.5999999999999996\n",
            "variance = 1.44\n"
          ]
        }
      ],
      "execution_count": 3,
      "metadata": {
        "id": "6dd4fe13",
        "outputId": "f5c5793a-74ff-42d7-8e3a-ed10e176d288",
        "colab": {
          "base_uri": "https://localhost:8080/",
          "height": 0
        }
      },
      "id": "6dd4fe13"
    },
    {
      "cell_type": "markdown",
      "source": [
        "scipy.stats.binom.pmf function is used to obtain the probability mass function for a certain value of r, n, and p.\n",
        "We can obtain the distribution by passing all possible values of r(0 to n)."
      ],
      "metadata": {
        "id": "96b28636"
      },
      "id": "96b28636"
    },
    {
      "cell_type": "code",
      "source": [
        "from scipy.stats import binom\n",
        "import matplotlib.pyplot as plt\n",
        "# Setting the values of n and p\n",
        "n = 6\n",
        "p = 0.6\n",
        "# Defining the list of r values\n",
        "r_values = list(range(n + 1))\n",
        "# List of pmf values\n",
        "dist = [binom.pmf(r, n, p) for r in r_values ]\n",
        "# Plotting the graph\n",
        "plt.bar(r_values, dist)\n",
        "plt.show()"
      ],
      "outputs": [
        {
          "output_type": "display_data",
          "data": {
            "text/plain": [
              "<Figure size 640x480 with 1 Axes>"
            ],
            "image/png": "[encoded data removed]"
          },
          "metadata": {}
        }
      ],
      "execution_count": 5,
      "metadata": {
        "id": "2b44c6b6",
        "outputId": "d47343b9-c7d1-44d2-fe44-62f8c9fc4f58",
        "colab": {
          "base_uri": "https://localhost:8080/",
          "height": 430
        }
      },
      "id": "2b44c6b6"
    },
    {
      "cell_type": "markdown",
      "source": [
        "As we can see that the distribution is normal."
      ],
      "metadata": {
        "id": "0e1c881e"
      },
      "id": "0e1c881e"
    },
    {
      "cell_type": "markdown",
      "source": [
        "### Probability Distribution: Poisson Distribution"
      ],
      "metadata": {
        "id": "2c7e8478"
      },
      "id": "2c7e8478"
    },
    {
      "cell_type": "markdown",
      "source": [
        "Poisson distribution measures the probability of an event(s) occurring over a specified period.It can be used only\n",
        "when the opportunities for the occurrence of the outcome is a very large value and the probability of occurrence\n",
        "of the outcome during an opportunity is very low.\n",
        "\n",
        "If X denotes the random variable indicating the number of occurrences which follows a Poisson distribution, the\n",
        "probabilities of X taking a given value (0, 1, 2 .....) depends on its expected value λ (lambda). λ is the parameter\n",
        "of the distribution.\n",
        "\n",
        "![poisson.PNG](https://s3.us-east-1.amazonaws.com/static2.simplilearn.com/lms/testpaper_images/ADSP/Advanced_Statistics/Probimages/poisson.PNG)\n",
        "\n",
        "For a given value of λ, the probabilities can be obtained from tables or software.\n",
        "\n",
        "\n",
        "\n",
        "        \n"
      ],
      "metadata": {
        "id": "111bdbba"
      },
      "id": "111bdbba"
    },
    {
      "cell_type": "markdown",
      "source": [
        "<b> When X follows a Poisson distribution with parameter λ, the following scenarios are true:</b>\n",
        "\n",
        "![poissonparameter.PNG](https://s3.us-east-1.amazonaws.com/static2.simplilearn.com/lms/testpaper_images/ADSP/Advanced_Statistics/Probimages/poissonparameter.PNG)"
      ],
      "metadata": {
        "id": "2337fe42"
      },
      "id": "2337fe42"
    },
    {
      "cell_type": "markdown",
      "source": [
        "<b> Consider a real-world problem:</b>\n",
        "\n",
        "The number of spares required for any component in a machine follows a Poisson distribution with λ = 2.\n",
        "An enterprise using this machine must arrive at the number of spares of this component needed so that the probability\n",
        "of a stock out is at most 0.06. How can we determine this number?\n",
        "\n",
        "\n",
        "\n",
        "\n"
      ],
      "metadata": {
        "id": "9a1f886d"
      },
      "id": "9a1f886d"
    },
    {
      "cell_type": "markdown",
      "source": [
        "![poissontable.PNG](https://s3.us-east-1.amazonaws.com/static2.simplilearn.com/lms/testpaper_images/ADSP/Advanced_Statistics/Probimages/poissontable.PNG)"
      ],
      "metadata": {
        "id": "a09efb2f"
      },
      "id": "a09efb2f"
    },
    {
      "cell_type": "markdown",
      "source": [
        "![poissonexample1.PNG](https://s3.us-east-1.amazonaws.com/static2.simplilearn.com/lms/testpaper_images/ADSP/Advanced_Statistics/Probimages/poissonexample1.PNG)"
      ],
      "metadata": {
        "id": "48805f61"
      },
      "id": "48805f61"
    },
    {
      "cell_type": "markdown",
      "source": [
        "![poissonexample2.PNG](https://s3.us-east-1.amazonaws.com/static2.simplilearn.com/lms/testpaper_images/ADSP/Advanced_Statistics/Probimages/poissonexample2.PNG)"
      ],
      "metadata": {
        "id": "121fb7b1"
      },
      "id": "121fb7b1"
    },
    {
      "cell_type": "markdown",
      "source": [
        "![poissonexample3.PNG](https://s3.us-east-1.amazonaws.com/static2.simplilearn.com/lms/testpaper_images/ADSP/Advanced_Statistics/Probimages/poissonexample3.PNG)"
      ],
      "metadata": {
        "id": "51fa3b45"
      },
      "id": "51fa3b45"
    },
    {
      "cell_type": "markdown",
      "source": [
        "<b> Note:The stock out probability for a given value = 1 – Cumulative value</b>\n",
        "\n",
        "As we can see that when fewer spare units are stocked, the stock out probabilities are high.\n",
        "\n",
        "when 3 spares are stocked, the stock out probability is 0.1429. The stock out probability when 4 spare parts are stocked\n",
        "is 0.0527. Since the stock out probability should not exceed 0.06, the firm should stock 4 units.\n",
        "\n",
        "The binomial can sometimes be approximated by a Poisson theorem.  \n",
        "\n",
        "![binomailas.PNG](https://s3.us-east-1.amazonaws.com/static2.simplilearn.com/lms/testpaper_images/ADSP/Advanced_Statistics/Probimages/binomailas.PNG)\n",
        "\n",
        "\n",
        "This is called Poisson distribution.\n"
      ],
      "metadata": {
        "id": "aaa9c664"
      },
      "id": "aaa9c664"
    },
    {
      "cell_type": "markdown",
      "source": [
        "# Poisson Distribution Using Python"
      ],
      "metadata": {
        "id": "1b91a25f"
      },
      "id": "1b91a25f"
    },
    {
      "cell_type": "code",
      "source": [
        "from scipy.stats import poisson\n",
        "import seaborn as sns\n",
        "import warnings\n",
        "warnings.filterwarnings(\"ignore\")\n",
        "data_binom = poisson.rvs(mu=4, size=10000)\n",
        "sns.distplot(data_binom, color=\"red\")\n",
        "ax.set(xlabel='Poisson', ylabel='Frequency');"
      ],
      "outputs": [
        {
          "output_type": "display_data",
          "data": {
            "text/plain": [
              "<Figure size 640x480 with 1 Axes>"
            ],
            "image/png": "[encoded data removed]"
          },
          "metadata": {}
        }
      ],
      "execution_count": 6,
      "metadata": {
        "colab": {
          "base_uri": "https://localhost:8080/",
          "height": 430
        },
        "id": "b019c13d",
        "outputId": "56d38249-814c-4612-c0b5-5cd2655d1529"
      },
      "id": "b019c13d"
    },
    {
      "cell_type": "markdown",
      "source": [
        "# Use Case: To Determine the Probability of Restaurants"
      ],
      "metadata": {
        "id": "60c74227"
      },
      "id": "60c74227"
    },
    {
      "cell_type": "markdown",
      "source": [
        "## Problem Statement:\n",
        "    "
      ],
      "metadata": {
        "id": "3670632c"
      },
      "id": "3670632c"
    },
    {
      "cell_type": "markdown",
      "source": [
        "Suppose you are going for a long drive. The rate of occurrences of good restaurants in a range of 10 miles is 2.\n",
        "In other words, the mean number of occurrences of restaurants in a range of 10 miles is 2. What is the probability\n",
        "that 0, 1, 2, 3, 4, or 5 restaurants will show up in the next 10 miles."
      ],
      "metadata": {
        "id": "d943cace"
      },
      "id": "d943cace"
    },
    {
      "cell_type": "markdown",
      "source": [
        "## Solution:"
      ],
      "metadata": {
        "id": "817d6af9"
      },
      "id": "817d6af9"
    },
    {
      "cell_type": "markdown",
      "source": [
        "The probability of the different number of restaurants ranging from 0 to 5 that one could find within 10 miles given\n",
        "the mean number of occurrences of the restaurant in 10 miles is 2.\n"
      ],
      "metadata": {
        "id": "c8d0476e"
      },
      "id": "c8d0476e"
    },
    {
      "cell_type": "code",
      "source": [
        "\n",
        "# Scipy.stats poisson class is used along with pmf method to calculate the value of probabilities\n",
        "from scipy.stats import poisson\n",
        "import matplotlib.pyplot as plt\n",
        "\n",
        "# Random variable representing number of restaurants\n",
        "# Mean number of occurrences of restaurants in 10 miles is 2\n",
        "\n",
        "X = [0, 1, 2, 3, 4, 5]\n",
        "lmbda = 2\n",
        "\n",
        "# Probability values\n",
        "#\n",
        "poisson_pd = poisson.pmf(X, lmbda)\n",
        "#\n",
        "# Plot the probability distribution\n",
        "#\n",
        "fig, ax = plt.subplots(1, 1, figsize=(8, 6))\n",
        "ax.plot(X, poisson_pd, 'bo', ms=8, label='poisson pmf')\n",
        "plt.ylabel(\"Probability\", fontsize=\"18\")\n",
        "plt.xlabel(\"X = No. of Restaurants\", fontsize=\"18\")\n",
        "plt.title(\"Poisson Distribution - No. of Restaurants Vs Probability\", fontsize=\"18\")\n",
        "ax.vlines(X, 0, poisson_pd, colors='b', lw=5, alpha=0.5);\n",
        "\n"
      ],
      "outputs": [
        {
          "output_type": "display_data",
          "data": {
            "text/plain": [
              "<Figure size 800x600 with 1 Axes>"
            ],
            "image/png": "[encoded data removed]"
          },
          "metadata": {}
        }
      ],
      "execution_count": 7,
      "metadata": {
        "colab": {
          "base_uri": "https://localhost:8080/",
          "height": 579
        },
        "id": "26e6dc75",
        "outputId": "e86b7b31-ca5b-4466-c4ed-769d7c0fa6e6"
      },
      "id": "26e6dc75"
    },
    {
      "cell_type": "markdown",
      "source": [
        "As we can see that the Poisson Probability Distribution X indicates the number of Restaurants in 10 miles."
      ],
      "metadata": {
        "id": "79802ba4"
      },
      "id": "79802ba4"
    },
    {
      "cell_type": "markdown",
      "source": [
        "### Probability Distribution: Normal Distribution"
      ],
      "metadata": {
        "id": "7c54426d"
      },
      "id": "7c54426d"
    },
    {
      "cell_type": "markdown",
      "source": [
        "Normal distribution extends between ( minus infinity to plus infinity) -∞ to +∞. The distribution is completely\n",
        "specified by its mean μ and standard deviation σ. The value of population mean μ can be positive, negative, or zero.\n",
        "\n",
        "![meanvale.PNG](https://s3.us-east-1.amazonaws.com/static2.simplilearn.com/lms/testpaper_images/ADSP/Advanced_Statistics/Probimages/meanvale.PNG)\n",
        "\n",
        "\n",
        "    \n"
      ],
      "metadata": {
        "id": "14171026"
      },
      "id": "14171026"
    },
    {
      "cell_type": "markdown",
      "source": [
        "<b> The properties of the Normal Distribution are:</b>\n",
        " ![ndproperty.PNG](https://s3.us-east-1.amazonaws.com/static2.simplilearn.com/lms/testpaper_images/ADSP/Advanced_Statistics/Probimages/ndproperty.PNG)   \n",
        "\n",
        "\n",
        "\n",
        "\n",
        "\n",
        "<b>Standard Normal Distribution</b>\n",
        "\n",
        "The normal distribution with mean 0 and standard deviation 1 is called the standard normal distribution.\n",
        "\n"
      ],
      "metadata": {
        "id": "9d826a09"
      },
      "id": "9d826a09"
    },
    {
      "cell_type": "markdown",
      "source": [
        "![sd.PNG](https://s3.us-east-1.amazonaws.com/static2.simplilearn.com/lms/testpaper_images/ADSP/Advanced_Statistics/Probimages/sd.PNG)"
      ],
      "metadata": {
        "id": "1b899f47"
      },
      "id": "1b899f47"
    },
    {
      "cell_type": "markdown",
      "source": [
        "Statistical tables are used to get probabilities for Z i.e., the normal distribution with zero mean and\n",
        "standard deviation unity. For other values of mean and standard deviation, probabilities are obtained using\n",
        "the transformation.\n",
        "                    \n",
        "                                                  Z= (X – μ)/ σ\n",
        "\n",
        "                    \n",
        "                    \n",
        "                    "
      ],
      "metadata": {
        "id": "7764d022"
      },
      "id": "7764d022"
    },
    {
      "cell_type": "markdown",
      "source": [
        "### <b>Example:</b>"
      ],
      "metadata": {
        "id": "22ff6dec"
      },
      "id": "22ff6dec"
    },
    {
      "cell_type": "markdown",
      "source": [
        "\n",
        "\n",
        "A Factory Outlet uses a filling machine for low-pressure oxygen shells. It has been established that the weights of\n",
        "filled cylinders in grams follow a normal distribution with  Population Mean μ = 1.433 and\n",
        "Standard Deviation σ = 0.033. The specification limits are 1.460+- 0.085.\n",
        "\n",
        "<b>How can we determine the probability that a cylinder will meet specifications?</b>\n",
        "\n"
      ],
      "metadata": {
        "id": "5abd42ae"
      },
      "id": "5abd42ae"
    },
    {
      "cell_type": "markdown",
      "source": [
        "<b>Solution:</b> Let the random variable X denote the weight of a filled in cylinder (grams).\n",
        "\n",
        "![specificationlimits.PNG](https://s3.us-east-1.amazonaws.com/static2.simplilearn.com/lms/testpaper_images/ADSP/Advanced_Statistics/Probimages/specificationlimits.PNG)"
      ],
      "metadata": {
        "id": "8fa1419f"
      },
      "id": "8fa1419f"
    },
    {
      "cell_type": "markdown",
      "source": [
        "Probability that a cylinder meets specification limits is shown below:\n",
        "\n",
        "![specification2.PNG](https://s3.us-east-1.amazonaws.com/static2.simplilearn.com/lms/testpaper_images/ADSP/Advanced_Statistics/Probimages/specification2.PNG)"
      ],
      "metadata": {
        "id": "e1039220"
      },
      "id": "e1039220"
    },
    {
      "cell_type": "markdown",
      "source": [
        "![specification3.PNG](https://s3.us-east-1.amazonaws.com/static2.simplilearn.com/lms/testpaper_images/ADSP/Advanced_Statistics/Probimages/specification3.PNG)"
      ],
      "metadata": {
        "id": "79d06d2b"
      },
      "id": "79d06d2b"
    },
    {
      "cell_type": "markdown",
      "source": [
        "### Probability Distribution: Uniform Distribution"
      ],
      "metadata": {
        "id": "0829e903"
      },
      "id": "0829e903"
    },
    {
      "cell_type": "markdown",
      "source": [
        "A random variable X is said to follow a Uniform Distribution in the range [a, b] if the probability of lying in\n",
        "the range [c, d] is directly proportional to the length of the interval.\n",
        "\n",
        "Hence,\n",
        "                                         Pr {c < X < d} = (d-c)/(b-a)\n",
        "\n",
        "Probability of c less than X is less than d is equal to d minus c divided by b minus a\n",
        "\n",
        "The values a, b, c and d are all finite. But, they can be positive, negative, or zero.\n",
        "\n",
        "\n"
      ],
      "metadata": {
        "id": "15ee186c"
      },
      "id": "15ee186c"
    },
    {
      "cell_type": "markdown",
      "source": [
        "\n",
        "Consider a large set of random numbers drawn from a random number table or from a computer (for instance, EXCEL).\n",
        "If a decimal is positioned at the start, the random numbers constitute a random sample from a uniform distribution\n",
        "with parameters 0 and 1.             \n",
        "\n",
        "Thus, the proportion of values lying between c and d  where 0 is less than or equal to c\n",
        "which is less than or equal to d which is less than or equal to 1 (0 ≤ c ≤ d ≤1) would be approximately d-c. These\n",
        "values can be used to obtain random numbers from other distributions besides the uniform distribution. Random numbers\n",
        "are useful in several applications."
      ],
      "metadata": {
        "id": "709aed13"
      },
      "id": "709aed13"
    },
    {
      "cell_type": "markdown",
      "source": [
        "To calculate probabilities related to the uniform distribution in Python we can use the scipy.stats.uniform() function,\n",
        "which uses the following basic syntax:\n",
        "\n",
        "scipy.stats.uniform(x, loc, scale)\n",
        "\n",
        "where:\n",
        "    \n",
        "    x:The value of the uniform distribution\n",
        "    loc:The minimum possible value\n",
        "    loc + scale: The maximum possible value"
      ],
      "metadata": {
        "id": "29726039"
      },
      "id": "29726039"
    },
    {
      "cell_type": "markdown",
      "source": [
        "# Example:"
      ],
      "metadata": {
        "id": "f7ea306c"
      },
      "id": "f7ea306c"
    },
    {
      "cell_type": "markdown",
      "source": [
        "Suppose a bus arrives at a stop every 20 minutes. What is the probability that the bus will arrive in 8 minutes or less\n",
        "if you arrive at the bus stop?"
      ],
      "metadata": {
        "id": "2660ef44"
      },
      "id": "2660ef44"
    },
    {
      "cell_type": "code",
      "source": [
        "from scipy.stats import uniform\n",
        "\n",
        "# Calculate uniform probability\n",
        "uniform.cdf(x=8, loc=0, scale=20) - uniform.cdf(x=0, loc=0, scale=20)\n"
      ],
      "outputs": [
        {
          "output_type": "execute_result",
          "data": {
            "text/plain": [
              "0.4"
            ]
          },
          "metadata": {},
          "execution_count": 8
        }
      ],
      "execution_count": 8,
      "metadata": {
        "colab": {
          "base_uri": "https://localhost:8080/",
          "height": 0
        },
        "id": "065c3238",
        "outputId": "85e1a050-7df6-42d5-937a-1e9e67683c7d"
      },
      "id": "065c3238"
    },
    {
      "cell_type": "markdown",
      "source": [
        "The probability that the bus arrives in 8 minutes or less is 0.4."
      ],
      "metadata": {
        "id": "28bfa8f0"
      },
      "id": "28bfa8f0"
    },
    {
      "cell_type": "markdown",
      "source": [
        "### Probability Distribution: Bernoulli Distribution"
      ],
      "metadata": {
        "id": "c2d36800"
      },
      "id": "c2d36800"
    },
    {
      "cell_type": "markdown",
      "source": [
        "Bernoulli distribution is a discrete probability distribution which takes up only two distinct values: 1 and 0\n",
        "\n",
        "1 indicates success\n",
        "\n",
        "0 indicates failure\n",
        "\n",
        "\n",
        "<b>Example 1:</b>\n",
        "\n",
        "A coin toss is a variable that follows Bernoulli distribution. It can be head or tail.\n",
        "\n",
        "![cointoss.PNG](https://s3.us-east-1.amazonaws.com/static2.simplilearn.com/lms/testpaper_images/ADSP/Advanced_Statistics/Probimages/cointoss.PNG)\n",
        "\n",
        "A head or a tail indicate success or failure. As a result, both of these probability range from 0 to 1.\n",
        "\n",
        "\n"
      ],
      "metadata": {
        "id": "f8310d56"
      },
      "id": "f8310d56"
    },
    {
      "cell_type": "markdown",
      "source": [
        "If probability of success and failure is taken as p and q respectively then:\n",
        "\n",
        "![probsuccfail.PNG](https://s3.us-east-1.amazonaws.com/static2.simplilearn.com/lms/testpaper_images/ADSP/Advanced_Statistics/Probimages/probsuccfail.PNG)\n",
        "\n"
      ],
      "metadata": {
        "id": "cf71818d"
      },
      "id": "cf71818d"
    },
    {
      "cell_type": "markdown",
      "source": [
        "\n",
        "\n",
        "Let X be a Bernoulli random variable then:\n",
        "    \n",
        "![binomialdistbino.PNG](https://s3.us-east-1.amazonaws.com/static2.simplilearn.com/lms/testpaper_images/ADSP/Advanced_Statistics/Probimages/binomialdistbino.PNG)\n",
        "\n"
      ],
      "metadata": {
        "id": "133809c6"
      },
      "id": "133809c6"
    },
    {
      "cell_type": "markdown",
      "source": [
        "\n",
        "\n",
        "Let probability mass function be f and and possible outcomes for the distribution be k, then:\n",
        "\n",
        "    \n",
        "![berequation.PNG](https://s3.us-east-1.amazonaws.com/static2.simplilearn.com/lms/testpaper_images/ADSP/Advanced_Statistics/Probimages/berequation.PNG)\n"
      ],
      "metadata": {
        "id": "96ed0f5f"
      },
      "id": "96ed0f5f"
    },
    {
      "cell_type": "markdown",
      "source": [
        "\n",
        "\n",
        "\n",
        "Next,Cumulative distribution function is:\n",
        "\n",
        "![cdfpq.PNG](https://s3.us-east-1.amazonaws.com/static2.simplilearn.com/lms/testpaper_images/ADSP/Advanced_Statistics/Probimages/cdfpq.PNG)\n",
        "\n",
        "\n",
        "            \n",
        "F(X) is equal to 0 if x is less than 0; 1 minus p if x lies between 0 and 1 and 1 if x is greater than or equal to 1.\n",
        "\n",
        "\n",
        "\n",
        "\n",
        "\n"
      ],
      "metadata": {
        "id": "8eee881c"
      },
      "id": "8eee881c"
    },
    {
      "cell_type": "markdown",
      "source": [
        "The mean value of this Bernoulli random variable is:![meanbernoulli.PNG](https://s3.us-east-1.amazonaws.com/static2.simplilearn.com/lms/testpaper_images/ADSP/Advanced_Statistics/Probimages/meanbernoulli.PNG)"
      ],
      "metadata": {
        "id": "2699d229"
      },
      "id": "2699d229"
    },
    {
      "cell_type": "markdown",
      "source": [
        "\n",
        "\n",
        "Variance is:\n",
        "\n",
        "\n",
        "![bernoullirandom.PNG](https://s3.us-east-1.amazonaws.com/static2.simplilearn.com/lms/testpaper_images/ADSP/Advanced_Statistics/Probimages/bernoullirandom.PNG)\n",
        "\n",
        "\n",
        "\n",
        "\n",
        "\n"
      ],
      "metadata": {
        "id": "9a13114b"
      },
      "id": "9a13114b"
    },
    {
      "cell_type": "markdown",
      "source": [
        "\n",
        "<b>Example 2:</b>\n",
        "\n",
        "<b>When a dice is rolled, what will be the probability of getting 1?</b>\n",
        "\n",
        "![exampledice.PNG](https://s3.us-east-1.amazonaws.com/static2.simplilearn.com/lms/testpaper_images/ADSP/Advanced_Statistics/Probimages/exampledice.PNG)\n",
        "\n",
        "In this example, getting 1 is success and all other outcomes are failure.\n",
        "\n",
        "The probability of getting 1 is ⅙. So p=⅙\n",
        "\n",
        "Probability of failure q=⅚\n",
        "\n",
        "So as explained above, mean of this distribution is p= ⅙\n",
        "\n",
        "And variance is pq = ⅙* ⅚ = 5/36"
      ],
      "metadata": {
        "id": "43b36274"
      },
      "id": "43b36274"
    },
    {
      "cell_type": "markdown",
      "source": [
        "<b> Note:</b>  scipy.stats.bernoulli() is a Bernoulli discrete random variable. It is inherited from the of generic methods as an instance of the rv_discrete class. It completes the methods with details specific for this particular distribution."
      ],
      "metadata": {
        "id": "6c212772"
      },
      "id": "6c212772"
    },
    {
      "cell_type": "markdown",
      "source": [
        "## Python code to implement histograms to obtain a plot for the probability distribution curve"
      ],
      "metadata": {
        "id": "1c299b14"
      },
      "id": "1c299b14"
    },
    {
      "cell_type": "code",
      "source": [
        "from scipy.stats import bernoulli\n",
        "import seaborn as sb\n",
        "\n",
        "data_bern = bernoulli.rvs(size=1000,p=0.6)\n",
        "ax = sb.displot(data_bern,\n",
        "                  kde=True,\n",
        "                  color='pink')\n",
        "ax.set(xlabel='Bernouli', ylabel='Frequency');"
      ],
      "outputs": [
        {
          "output_type": "display_data",
          "data": {
            "text/plain": [
              "<Figure size 500x500 with 1 Axes>"
            ],
            "image/png": "[encoded data removed]"
          },
          "metadata": {}
        }
      ],
      "execution_count": 9,
      "metadata": {
        "colab": {
          "base_uri": "https://localhost:8080/",
          "height": 526
        },
        "id": "896f2283",
        "outputId": "e9481aaa-416e-4a00-c9fd-36afb62bd221"
      },
      "id": "896f2283"
    },
    {
      "cell_type": "markdown",
      "source": [
        "# Probability Density Function and Mass Function"
      ],
      "metadata": {
        "id": "fff5b6f1"
      },
      "id": "fff5b6f1"
    },
    {
      "cell_type": "markdown",
      "source": [
        "The probability density function is used to specify the probability that the random variable falls\n",
        "within a range of values as opposed to taking on one particular value.\n",
        "\n",
        "Since there are infinite possible values for a continuous random variable, the absolute likelihood that it will take up a particular value is 0.\n",
        "\n",
        "But if we take two samples, we can determine how likely it is to fall in one sample compared to the other.\n",
        "\n",
        "The probability is given by the integral of the probability density function over that range. It is the area\n",
        "under the density function above the horizontal axis between the lowest and highest values of that range.\n",
        "\n",
        "The probability density function is non-negative everywhere and its integral over the entire space is equal to 1.\n",
        "\n",
        "But when the random variables take only discrete values, the same function is called Probability Mass Function.\n",
        "\n",
        "So formally, for a continuous random variable X with probability density function f(x):\n",
        "\n",
        "![probmassfunction.PNG](https://s3.us-east-1.amazonaws.com/static2.simplilearn.com/lms/testpaper_images/ADSP/Advanced_Statistics/Probimages/probmassfunction.PNG)\n",
        "\n",
        "\n",
        "<center>So, f(x) $\\geq$ 0 for all x.</center>\n",
        "\n",
        "\n",
        "\n",
        "        \n"
      ],
      "metadata": {
        "id": "e120eb50"
      },
      "id": "e120eb50"
    },
    {
      "cell_type": "markdown",
      "source": [
        "The area under the density curve and above the horizontal axis over the entire space is equal to 1. So,\n",
        "\n",
        "![pmfequation.PNG](https://s3.us-east-1.amazonaws.com/static2.simplilearn.com/lms/testpaper_images/ADSP/Advanced_Statistics/Probimages/pmfequation.PNG)\n",
        "\n",
        "\n"
      ],
      "metadata": {
        "id": "08cdc2e8"
      },
      "id": "08cdc2e8"
    },
    {
      "cell_type": "markdown",
      "source": [
        "        \n",
        "<b>Example:</b>\n",
        "    \n",
        "If X is a continuous random variable with the following density function:\n",
        "\n",
        "![pmseq.PNG](https://s3.us-east-1.amazonaws.com/static2.simplilearn.com/lms/testpaper_images/ADSP/Advanced_Statistics/Probimages/pmseq.PNG)\n",
        "\n",
        "\n",
        "\n",
        "To calculate P(1 < X < 2) as per definition\n",
        "\n",
        "\n",
        "\n",
        "P(1<X<2) =  $\\int_{1}^2 {x^2}/9  dx$ = (${2^3}$/27)= (${1^3}$/27)= 7/27\n",
        "\n",
        "        \n",
        "\n",
        "\n",
        "\n"
      ],
      "metadata": {
        "id": "5cc27fef"
      },
      "id": "5cc27fef"
    },
    {
      "cell_type": "markdown",
      "source": [
        "### Cumulative Distribution Function"
      ],
      "metadata": {
        "id": "699bce8c"
      },
      "id": "699bce8c"
    },
    {
      "cell_type": "markdown",
      "source": [
        "\n",
        "Probability Mass Function can’t be defined for continuous random variables, Cumulative Distribution Function is\n",
        "used to describe their distribution. It can be used to describe:\n",
        "\n",
        "![contidis.PNG](https://s3.us-east-1.amazonaws.com/static2.simplilearn.com/lms/testpaper_images/ADSP/Advanced_Statistics/Probimages/contidis.PNG)\n",
        "\n"
      ],
      "metadata": {
        "id": "4246c18d"
      },
      "id": "4246c18d"
    },
    {
      "cell_type": "markdown",
      "source": [
        "The cumulative distribution function of a real valued random variable X evaluated at x is the probability\n",
        "that X will take a value less than or equal to x.\n",
        "\n",
        "\n",
        "So formally, the Cumulative Distribution Function of a random variable X is defined as:\n",
        "\n",
        "![cumueq.PNG](https://s3.us-east-1.amazonaws.com/static2.simplilearn.com/lms/testpaper_images/ADSP/Advanced_Statistics/Probimages/cumueq.PNG)\n",
        "\n",
        "\n",
        "\n",
        "\n",
        "\n",
        "\n"
      ],
      "metadata": {
        "id": "3a27ec96"
      },
      "id": "3a27ec96"
    },
    {
      "cell_type": "markdown",
      "source": [
        "The CDF is monotone increasing. It means that\n",
        "\n",
        "if ${x_1}$ $\\leq$ ${x_2}$, then ${F_x}$${(x_1)}$ $\\leq$ ${F_x}$${(x_2)}$\n",
        "\n",
        "\n",
        "\n",
        "Also, the CDF of a continuous random variable can be expressed as an integral of its probability density function ${F_x}$ as follows:\n",
        "\n",
        "![cummulativeequati.PNG](https://s3.us-east-1.amazonaws.com/static2.simplilearn.com/lms/testpaper_images/ADSP/Advanced_Statistics/Probimages/cummulativeequati.PNG)\n",
        "\n",
        "\n"
      ],
      "metadata": {
        "id": "f7395bef"
      },
      "id": "f7395bef"
    },
    {
      "cell_type": "markdown",
      "source": [
        "## CDF Properties:"
      ],
      "metadata": {
        "id": "322beec1"
      },
      "id": "322beec1"
    },
    {
      "cell_type": "markdown",
      "source": [
        "\n",
        "    \n",
        "Each CDF is right-continuous and non-decreasing. Furthermore,\n",
        "\n",
        "$\\lim_{x \\to -\\infty} f_x(x)$ = 0 and $\\lim_{x \\to +\\infty} f_x(x)$ = 1\n",
        "\n",
        "\n",
        "\n",
        "\n",
        "<b> Example 1:</b>\n",
        "Suppose X is uniformly distributed on the unit interval [0,1] then its CDF is given by:\n",
        "\n",
        "![cdfexampl.PNG](https://s3.us-east-1.amazonaws.com/static2.simplilearn.com/lms/testpaper_images/ADSP/Advanced_Statistics/Probimages/cdfexampl.PNG)\n",
        "\n",
        "\n",
        "\n",
        "\n",
        "\n",
        "\n",
        "\n"
      ],
      "metadata": {
        "id": "d6d6d6ce"
      },
      "id": "d6d6d6ce"
    },
    {
      "cell_type": "markdown",
      "source": [
        "\n",
        "<b> Example 2:</b>\n",
        "Suppose X takes only the discrete values 0 and 1 with equal probability, then its CDF is given by:\n",
        "\n",
        "![cumexam2.PNG](https://s3.us-east-1.amazonaws.com/static2.simplilearn.com/lms/testpaper_images/ADSP/Advanced_Statistics/Probimages/cumexam2.PNG)\n",
        "\n"
      ],
      "metadata": {
        "id": "bee1728b"
      },
      "id": "bee1728b"
    },
    {
      "cell_type": "markdown",
      "source": [
        "## Central Limit Theorem"
      ],
      "metadata": {
        "id": "18e4b4c4"
      },
      "id": "18e4b4c4"
    },
    {
      "cell_type": "markdown",
      "source": [
        "<b> Scenario 1:</b>\n",
        "\n",
        "Consider a math's test score of a school of 1000 students.If we test 100 of them, the results won't significantly deviate from the results of the entire student population. According to the central limit theorem, the average test result for these 100 students will typically be the same as the average test result for the population of 1000 students.\n",
        "\n",
        "Conversely, assume test scores for 1000 students but conduct the test for 100 students.We can reasonably conclude that the average test score for these 100 students reflects the population mean.\n",
        "\n",
        "Again, suppose we have data for a particular sample and a population. The central limit theorem helps us to calculate\n",
        "the probability that a particular sample was drawn from a given population. If that probability is low, we can\n",
        "conclude confidently that the sample is not from that population.\n",
        "\n"
      ],
      "metadata": {
        "id": "8c13473f"
      },
      "id": "8c13473f"
    },
    {
      "cell_type": "markdown",
      "source": [
        "<b> Scenario 2</b>\n",
        "\n",
        "Consider the two given samples. We can infer whether they were likely drawn from the same population.\n",
        "\n",
        "\n",
        "The central limit theorem states that given a sufficiently large sample size from a population with a finite\n",
        "variance level, the mean of all sampled variables from the same population will be approximately equal to the\n",
        "mean of the whole population. These samples approximate a normal distribution with their variances being approximately\n",
        "equal to the variance of the population, as the sample size grows.\n",
        "\n",
        "Central Limit Theorem states that if X1, X2, X3,......, Xn are independent random variables that are\n",
        "identically distributed and have finite mean $\\mu$ and variance $\\sigma^2$.\n",
        "\n",
        "then, if ${S_n} = {X_1}+{X_2}+ {X_3}+......+ {X_n}$ (n= 1,2,.....),\n",
        "\n",
        "![clt.png](https://s3.us-east-1.amazonaws.com/static2.simplilearn.com/lms/testpaper_images/ADSP/Advanced_Statistics/Probability/clttheorm.png)\n",
        "\n",
        "\n",
        "\n",
        "That is, the random variable  $({S_n} - n\\mu )$/$\\sigma$$\\sqrt{n}$ , which is the standardized variable corresponding\n",
        "to ${S_n}$ is asymptotically normal.\n",
        "\n",
        "The theorem is also true under more general conditions.\n",
        "\n",
        "For example:\n",
        "\n",
        "When ${X_1, X_2, X_3,......, X_n}$ are independent random variables with the same mean, same variance but not necessarily identically distributed.\n",
        "\n",
        "\n"
      ],
      "metadata": {
        "id": "774d3e57"
      },
      "id": "774d3e57"
    },
    {
      "cell_type": "markdown",
      "source": [
        "# Bayes’ Theorem"
      ],
      "metadata": {
        "id": "731787ca"
      },
      "id": "731787ca"
    },
    {
      "cell_type": "markdown",
      "source": [
        "Bayes’ theorem describes how the conditional probability of each of a set of possible causes for a given observed\n",
        "outcome is computed by knowing the probability of each cause and the conditional probability of the outcome of each cause.\n",
        "\n",
        "Bayes’ theorem can be expressed as a mathematical equation and used to calculate the probability of one event based on\n",
        "its connection with another event. It is also known as Bayes' law or Bayes' rule."
      ],
      "metadata": {
        "id": "a0b0a5bb"
      },
      "id": "a0b0a5bb"
    },
    {
      "cell_type": "markdown",
      "source": [
        "# Applications of Bayes’ Theorem"
      ],
      "metadata": {
        "id": "8a272404"
      },
      "id": "8a272404"
    },
    {
      "cell_type": "markdown",
      "source": [
        "Mathematically, Bayes’ theorem is expressed as:"
      ],
      "metadata": {
        "id": "896582fb"
      },
      "id": "896582fb"
    },
    {
      "cell_type": "markdown",
      "source": [
        "![Bayes.png](https://s3.us-east-1.amazonaws.com/static2.simplilearn.com/lms/testpaper_images/ADSP/Advanced_Statistics/Bayes.png)"
      ],
      "metadata": {
        "id": "e36bdb62"
      },
      "id": "e36bdb62"
    },
    {
      "cell_type": "markdown",
      "source": [
        "where A and B are events\n",
        "\n",
        "P(A|B) is the probability of A happening in case B happens.\n",
        "\n",
        "P(B|A) is the probability of B happening in case A happens.\n",
        "\n",
        "P(A) is the independent probability of A.\n",
        "\n",
        "P(B) is the independent probability of B."
      ],
      "metadata": {
        "id": "e95b2a51"
      },
      "id": "e95b2a51"
    },
    {
      "cell_type": "markdown",
      "source": [
        "### Example to illustrate how Bayes’ theorem tries to predict one event in case the other is true, as shown below:"
      ],
      "metadata": {
        "id": "6657ae5b"
      },
      "id": "6657ae5b"
    },
    {
      "cell_type": "markdown",
      "source": [
        "Rainy days bring us showers and lightning. Sometimes, there are showers with lightning, and sometimes showers without\n",
        "lightning. Similarly, sometimes there is lightning, but no showers. The Bayes’ theorem helps us find how often there is\n",
        "lightning, when there are showers. The solution is expressed as: P(Lightning | Shower).\n",
        "\n",
        "\n",
        "P(Lightning|Shower) = P(Shower|Lightning) x P(Lightning) / P(Shower)\n",
        "\n",
        "Here, P(Lightning) is the probability of lightning, and P(Shower) is the probability of showers.\n",
        "\n",
        "P(Shower|Lightning) is the probability of showers when there is lightning.\n",
        "\n",
        "IT is required to know P(Shower|Lightning), which is the probability of showers when there is lightning. This is\n",
        "referred to as ‘backwards’ of what we want to predict, while what we want to predict is ‘forwards’. Therefore, the\n",
        "formula predicts the \"forward\" event P(Lightning|Shower) by knowing the “backward” event, which is P(Shower|Lightning).\n",
        "\n",
        "The problem is seasonal, and the various events are related. The Bayes’ theorem helps us predict one when the other is\n",
        "known.\n",
        "\n"
      ],
      "metadata": {
        "id": "a8de9398"
      },
      "id": "a8de9398"
    },
    {
      "cell_type": "markdown",
      "source": [
        "## Estimation Theory"
      ],
      "metadata": {
        "id": "2ed3aa29"
      },
      "id": "2ed3aa29"
    },
    {
      "cell_type": "markdown",
      "source": [
        "\n",
        "Estimation theory is the science of guessing or estimating the properties of a population from which data is collected.\n",
        "The guesswork happens via determination of the approximate value of a population parameter based on a sample statistic.\n",
        "\n",
        "The estimator is a rule or formula that can be used to calculate the estimate based on the sample.\n",
        "\n",
        "![estimation.PNG](https://s3.us-east-1.amazonaws.com/static2.simplilearn.com/lms/testpaper_images/ADSP/Advanced_Statistics/Probimages/estimation.PNG)\n",
        "\n",
        "<b> Good estimators: </b>\n",
        "\n",
        "1) Good estimators are unbiased, that is, the average value of the estimator equals the parameter to be estimated.\n",
        "\n",
        "2) It also have minimum variance, that is, among all the unbiased estimators, the best one has a sampling\n",
        "   distribution with the smallest standard error.\n",
        "\n",
        "<b> Point estimators and Interval estimators are the two kinds of estimators.</b>\n",
        "\n"
      ],
      "metadata": {
        "id": "85f105f2"
      },
      "id": "85f105f2"
    },
    {
      "cell_type": "markdown",
      "source": [
        "## What is Point estimator?"
      ],
      "metadata": {
        "id": "78f8aea3"
      },
      "id": "78f8aea3"
    },
    {
      "cell_type": "markdown",
      "source": [
        "1. A point estimator is a function of the data that is used to deduce the value of an unknown parameter in a statistical\n",
        "  model.\n",
        "  \n",
        "\n",
        "2. A point estimate is one of many possible values for the point estimator. For example, the mean income of a\n",
        "  class of graduate trainees is $800 per week; this  is a point estimate.\n",
        "  \n",
        "\n",
        "3. A point estimator is assessed on three criteria:\n",
        "\n",
        "![point.PNG](https://s3.us-east-1.amazonaws.com/static2.simplilearn.com/lms/testpaper_images/ADSP/Advanced_Statistics/Probimages/point.PNG)\n"
      ],
      "metadata": {
        "id": "9e3be6ba"
      },
      "id": "9e3be6ba"
    },
    {
      "cell_type": "markdown",
      "source": [
        "* <b>Unbiasedness (mean):</b> It is a measurement of whether the mean of this estimator is close to the actual parameter.\n",
        "    \n",
        "    \n",
        "* <b> Efficiency (variance):</b> It denotes whether the standard deviation of this estimator is close to the actual parameter.\n",
        "\n",
        "    \n",
        "* <b> Consistency (size):</b> It indicates whether the probability distribution of the estimator is concentrated on the\n",
        "parameter with an increase in the sample size.\n",
        "\n",
        "        "
      ],
      "metadata": {
        "id": "378ca227"
      },
      "id": "378ca227"
    },
    {
      "cell_type": "markdown",
      "source": [
        "## Interval Estimator"
      ],
      "metadata": {
        "id": "d0016832"
      },
      "id": "d0016832"
    },
    {
      "cell_type": "markdown",
      "source": [
        "An interval estimator of a population parameter under random sampling consists of two random variables, called\n",
        "the upper and lower limits, whose values decide intervals that expect to contain the parameter estimated.\n",
        "\n",
        "* Interval estimates are all the ranges that an interval estimator can assume.\n",
        "\n",
        "\n",
        "* There is a range within which a population parameter probably lies, and the interval estimate captures that.\n",
        "\n",
        "\n",
        "* The mean income of a class of graduate trainees between <b>\\$775 and \\$950</b> per week is an example of an interval estimate.\n",
        "\n",
        "\n",
        "<b> An interval estimator can be assessed through its:</b>\n",
        "\n",
        "1) Accuracy or confidence level\n",
        "\n",
        "2) Precision or margin of error\n",
        "\n",
        "The design of an interval estimator consists of evaluating an unbiased point estimator and designating an interval\n",
        "of logical width around it.\n",
        "\n",
        "\n"
      ],
      "metadata": {
        "id": "1989ab96"
      },
      "id": "1989ab96"
    },
    {
      "cell_type": "markdown",
      "source": [
        "# Use Case: Finding a Point Estimate"
      ],
      "metadata": {
        "id": "3e2de3dd"
      },
      "id": "3e2de3dd"
    },
    {
      "cell_type": "markdown",
      "source": [
        "### Problem Statement:"
      ],
      "metadata": {
        "id": "60cdce53"
      },
      "id": "60cdce53"
    },
    {
      "cell_type": "markdown",
      "source": [
        "An economics researcher is collecting data about grocery store employees in a country. The data represent\n",
        "a random sample of the number of hours worked by 40 employees from several grocery stores in the country. Find a point\n",
        "estimate of the population mean."
      ],
      "metadata": {
        "id": "b4a2935e"
      },
      "id": "b4a2935e"
    },
    {
      "cell_type": "markdown",
      "source": [
        "### Solution:"
      ],
      "metadata": {
        "id": "360ce70c"
      },
      "id": "360ce70c"
    },
    {
      "cell_type": "code",
      "source": [
        "# Random data of forty employees\n",
        "data = [30, 26, 33, 26, 26, 33, 31, 31, 21, 37,\n",
        "        27, 20, 34, 35, 30, 24, 38, 34, 39, 31,\n",
        "        22, 30, 23, 23, 31, 44, 31, 33, 33, 26,\n",
        "        27, 28, 25, 35, 23, 32, 29, 31, 25, 27]\n",
        "\n",
        "n = len(data)\n",
        "sample_mean =  sum(data) / n\n",
        "print('sample mean: ', sample_mean)"
      ],
      "outputs": [
        {
          "output_type": "stream",
          "name": "stdout",
          "text": [
            "sample mean:  29.6\n"
          ]
        }
      ],
      "execution_count": 10,
      "metadata": {
        "colab": {
          "base_uri": "https://localhost:8080/",
          "height": 0
        },
        "id": "4c55a683",
        "outputId": "33ff2196-7be4-406d-a141-a0df32a21958"
      },
      "id": "4c55a683"
    },
    {
      "cell_type": "markdown",
      "source": [
        "So, the point estimate for the mean number of hours worked by grocery store employees in this country is 29.6 hours.\n",
        "\n"
      ],
      "metadata": {
        "id": "5caa2c04"
      },
      "id": "5caa2c04"
    },
    {
      "cell_type": "markdown",
      "source": [
        "# For uploading you need to execute the follwing script"
      ],
      "metadata": {
        "id": "P7HTSby5jGu4"
      },
      "id": "P7HTSby5jGu4"
    },
    {
      "cell_type": "code",
      "source": [
        "from google.colab import auth\n",
        "auth.authenticate_user()\n",
        "import requests\n",
        "gcloud_token = !gcloud auth print-access-token\n",
        "gcloud_tokeninfo = requests.get('https://www.googleapis.com/oauth2/v3/tokeninfo?access_token=' + gcloud_token[0]).json()\n",
        "user = gcloud_tokeninfo['email']\n",
        "import datetime\n",
        "dt = datetime.datetime.now()\n",
        "x = str(dt).split('.')[0]\n",
        "print(f\"This Script is executed by: \",user, \"at\", x)"
      ],
      "outputs": [
        {
          "output_type": "stream",
          "name": "stdout",
          "text": [
            "This Script is executed by:  priyeshsinha080@gmail.com at 2023-08-31 09:35:31\n"
          ]
        }
      ],
      "execution_count": 12,
      "metadata": {
        "id": "oyMmeSAIjHjP",
        "colab": {
          "base_uri": "https://localhost:8080/",
          "height": 0
        },
        "outputId": "4559f56f-edef-41c2-cc9b-d6bee0be496a"
      },
      "id": "oyMmeSAIjHjP"
    }
  ],
  "metadata": {
    "colab": {
      "provenance": [],
      "include_colab_link": true
    },
    "kernelspec": {
      "display_name": "Python 3 [3.10]",
      "language": "python",
      "name": "python3"
    },
    "language_info": {
      "codemirror_mode": {
        "name": "ipython",
        "version": 3
      },
      "file_extension": ".py",
      "mimetype": "text/x-python",
      "name": "python",
      "nbconvert_exporter": "python",
      "pygments_lexer": "ipython3",
      "version": "3.10.2"
    },
    "nteract": {
      "version": "nteract-front-end@1.0.0"
    }
  },
  "nbformat": 4,
  "nbformat_minor": 5
}